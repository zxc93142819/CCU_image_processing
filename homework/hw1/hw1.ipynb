{
 "cells": [
  {
   "cell_type": "markdown",
   "metadata": {},
   "source": [
    "#### power-law (gamma) transformation"
   ]
  },
  {
   "cell_type": "code",
   "execution_count": 1,
   "metadata": {},
   "outputs": [],
   "source": [
    "def power_law() :\n",
    "    return 1"
   ]
  },
  {
   "cell_type": "markdown",
   "metadata": {},
   "source": [
    "#### histogram equalization"
   ]
  },
  {
   "cell_type": "code",
   "execution_count": 2,
   "metadata": {},
   "outputs": [],
   "source": [
    "def histogram() :\n",
    "    return 2"
   ]
  },
  {
   "cell_type": "markdown",
   "metadata": {},
   "source": [
    "#### image sharpening using the Laplacian operator"
   ]
  },
  {
   "cell_type": "code",
   "execution_count": 3,
   "metadata": {},
   "outputs": [],
   "source": [
    "def image_sharpening() :\n",
    "    return 3"
   ]
  },
  {
   "cell_type": "markdown",
   "metadata": {},
   "source": [
    "#### main"
   ]
  },
  {
   "cell_type": "code",
   "execution_count": 12,
   "metadata": {},
   "outputs": [
    {
     "name": "stdout",
     "output_type": "stream",
     "text": [
      "./image\\Cameraman.bmp\n",
      "<PIL.BmpImagePlugin.BmpImageFile image mode=L size=256x256 at 0x2367EA81520>\n",
      "./image\\Jetplane.bmp\n",
      "<PIL.BmpImagePlugin.BmpImageFile image mode=P size=256x256 at 0x2367E9EBCE0>\n",
      "./image\\Lake.bmp\n",
      "<PIL.BmpImagePlugin.BmpImageFile image mode=P size=256x256 at 0x2367EA81520>\n",
      "./image\\Peppers.bmp\n",
      "<PIL.BmpImagePlugin.BmpImageFile image mode=P size=256x256 at 0x2367E9EA630>\n"
     ]
    }
   ],
   "source": [
    "# read image\n",
    "from PIL import Image\n",
    "import glob\n",
    "\n",
    "for filename in glob.glob(\"./image/*.bmp\") :\n",
    "    bmp_image = Image.open(filename)\n",
    "    print(bmp_image)\n",
    "\n",
    "    # line_horizon = (bmp_image.getpixel((i_horizon, i_vertical)) for i_vertical in range(bmp_image.height) for i_horizon in range(bmp_image.width))\n",
    "    # for x in range(bmp_image.height):\n",
    "    # for y in range(bmp_image.width):\n",
    "    #     print(next(line_horizon), ' ', end = '')\n",
    "    # print('')\n",
    "\n",
    "    # bmp_image.close()"
   ]
  }
 ],
 "metadata": {
  "kernelspec": {
   "display_name": "Python 3",
   "language": "python",
   "name": "python3"
  },
  "language_info": {
   "codemirror_mode": {
    "name": "ipython",
    "version": 3
   },
   "file_extension": ".py",
   "mimetype": "text/x-python",
   "name": "python",
   "nbconvert_exporter": "python",
   "pygments_lexer": "ipython3",
   "version": "3.12.6"
  }
 },
 "nbformat": 4,
 "nbformat_minor": 2
}
